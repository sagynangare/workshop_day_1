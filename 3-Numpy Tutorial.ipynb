{
 "cells": [
  {
   "cell_type": "markdown",
   "metadata": {},
   "source": [
    "## Numpy Tutorials\n",
    "\n",
    "NumPy is a general-purpose array-processing package. It provides a high-performance multidimensional array object, and tools for working with these arrays. It is the fundamental package for scientific computing with Python\n",
    "\n",
    "### What is an array\n",
    "\n",
    "An array is a data structure that stores values of same data type. In Python, this is the main difference between arrays and lists. While python lists can contain values corresponding to different data types, arrays in python can only contain values corresponding to same data type"
   ]
  },
  {
   "cell_type": "code",
   "execution_count": 2,
   "metadata": {},
   "outputs": [],
   "source": [
    "## initially Lets import numpy\n",
    "\n",
    "import numpy as np"
   ]
  },
  {
   "cell_type": "code",
   "execution_count": 3,
   "metadata": {},
   "outputs": [],
   "source": [
    "my_lst=[1,2,3,4,5]\n",
    "\n",
    "arr=np.array(my_lst)"
   ]
  },
  {
   "cell_type": "code",
   "execution_count": 4,
   "metadata": {},
   "outputs": [
    {
     "data": {
      "text/plain": [
       "array([1, 2, 3, 4, 5])"
      ]
     },
     "execution_count": 4,
     "metadata": {},
     "output_type": "execute_result"
    }
   ],
   "source": [
    "arr"
   ]
  },
  {
   "cell_type": "code",
   "execution_count": 4,
   "metadata": {},
   "outputs": [
    {
     "data": {
      "text/plain": [
       "numpy.ndarray"
      ]
     },
     "execution_count": 4,
     "metadata": {},
     "output_type": "execute_result"
    }
   ],
   "source": [
    "type(arr)"
   ]
  },
  {
   "cell_type": "code",
   "execution_count": 5,
   "metadata": {},
   "outputs": [],
   "source": [
    "## Multinested array\n",
    "my_lst1=[1,2,3,4,5]\n",
    "my_lst2=[2,3,4,5,6]\n",
    "my_lst3=[9,7,6,8,9]\n",
    "\n",
    "arr=np.array([my_lst1,my_lst2,my_lst3])"
   ]
  },
  {
   "cell_type": "code",
   "execution_count": 6,
   "metadata": {},
   "outputs": [
    {
     "data": {
      "text/plain": [
       "array([[1, 2, 3, 4, 5],\n",
       "       [2, 3, 4, 5, 6],\n",
       "       [9, 7, 6, 8, 9]])"
      ]
     },
     "execution_count": 6,
     "metadata": {},
     "output_type": "execute_result"
    }
   ],
   "source": [
    "arr"
   ]
  },
  {
   "cell_type": "code",
   "execution_count": 8,
   "metadata": {},
   "outputs": [
    {
     "data": {
      "text/plain": [
       "numpy.ndarray"
      ]
     },
     "execution_count": 8,
     "metadata": {},
     "output_type": "execute_result"
    }
   ],
   "source": [
    "type(arr)"
   ]
  },
  {
   "cell_type": "code",
   "execution_count": 7,
   "metadata": {},
   "outputs": [
    {
     "data": {
      "text/plain": [
       "(3, 5)"
      ]
     },
     "execution_count": 7,
     "metadata": {},
     "output_type": "execute_result"
    }
   ],
   "source": [
    "## check the shape of the array\n",
    "\n",
    "arr.shape# it return no rows and columns"
   ]
  },
  {
   "cell_type": "markdown",
   "metadata": {},
   "source": [
    "### Indexing "
   ]
  },
  {
   "cell_type": "code",
   "execution_count": 8,
   "metadata": {},
   "outputs": [
    {
     "data": {
      "text/plain": [
       "array([[1, 2, 3, 4, 5],\n",
       "       [2, 3, 4, 5, 6],\n",
       "       [9, 7, 6, 8, 9]])"
      ]
     },
     "execution_count": 8,
     "metadata": {},
     "output_type": "execute_result"
    }
   ],
   "source": [
    "## Accessing the array elements\n",
    "\n",
    "arr"
   ]
  },
  {
   "cell_type": "code",
   "execution_count": 11,
   "metadata": {},
   "outputs": [
    {
     "data": {
      "text/plain": [
       "array([9, 7, 6, 8, 9])"
      ]
     },
     "execution_count": 11,
     "metadata": {},
     "output_type": "execute_result"
    }
   ],
   "source": [
    "arr[2]#this will return the row at index 2 if present"
   ]
  },
  {
   "cell_type": "code",
   "execution_count": 14,
   "metadata": {},
   "outputs": [
    {
     "data": {
      "text/plain": [
       "4"
      ]
     },
     "execution_count": 14,
     "metadata": {},
     "output_type": "execute_result"
    }
   ],
   "source": [
    "arr[1][2]# to access specific element within 2-D array we use syntax like arrname[row index][col index]"
   ]
  },
  {
   "cell_type": "code",
   "execution_count": 15,
   "metadata": {},
   "outputs": [
    {
     "data": {
      "text/plain": [
       "array([[2, 3],\n",
       "       [9, 7]])"
      ]
     },
     "execution_count": 15,
     "metadata": {},
     "output_type": "execute_result"
    }
   ],
   "source": [
    "#to access sub arrays use syntax like: arrname[rows,cols]\n",
    "arr[1:,:2]"
   ]
  },
  {
   "cell_type": "code",
   "execution_count": 16,
   "metadata": {},
   "outputs": [
    {
     "data": {
      "text/plain": [
       "array([[3, 4, 5],\n",
       "       [4, 5, 6]])"
      ]
     },
     "execution_count": 16,
     "metadata": {},
     "output_type": "execute_result"
    }
   ],
   "source": [
    "arr[:2, 2:5]"
   ]
  },
  {
   "cell_type": "code",
   "execution_count": 24,
   "metadata": {},
   "outputs": [
    {
     "data": {
      "text/plain": [
       "array([[4, 5],\n",
       "       [5, 6],\n",
       "       [8, 9]])"
      ]
     },
     "execution_count": 24,
     "metadata": {},
     "output_type": "execute_result"
    }
   ],
   "source": [
    "arr1[:,3:]"
   ]
  },
  {
   "cell_type": "markdown",
   "metadata": {},
   "source": [
    "## to assign new value at specific location\n",
    "\n",
    "syntax:\n",
    "\n",
    "``arrname[row,column]=new value``\n",
    "\n",
    "``arrname[row][column]=new value``\n"
   ]
  },
  {
   "cell_type": "code",
   "execution_count": 19,
   "metadata": {},
   "outputs": [],
   "source": [
    "arr=np.array(my_lst)#single dimensional array\n",
    "arr[3:]=100"
   ]
  },
  {
   "cell_type": "code",
   "execution_count": 18,
   "metadata": {},
   "outputs": [
    {
     "data": {
      "text/plain": [
       "array([  1,   2,   3, 100, 100])"
      ]
     },
     "execution_count": 18,
     "metadata": {},
     "output_type": "execute_result"
    }
   ],
   "source": [
    "arr"
   ]
  },
  {
   "cell_type": "code",
   "execution_count": 21,
   "metadata": {},
   "outputs": [
    {
     "data": {
      "text/plain": [
       "array([[1, 2, 3, 4, 5],\n",
       "       [2, 3, 4, 5, 6],\n",
       "       [9, 7, 6, 8, 9]])"
      ]
     },
     "execution_count": 21,
     "metadata": {},
     "output_type": "execute_result"
    }
   ],
   "source": [
    "## Multinested array\n",
    "my_lst1=[1,2,3,4,5]\n",
    "my_lst2=[2,3,4,5,6]\n",
    "my_lst3=[9,7,6,8,9]\n",
    "\n",
    "arr1=np.array([my_lst1,my_lst2,my_lst3])\n",
    "arr1"
   ]
  },
  {
   "cell_type": "code",
   "execution_count": 22,
   "metadata": {},
   "outputs": [
    {
     "data": {
      "text/plain": [
       "array([[  1,   2,   3,   4,   5],\n",
       "       [  2,   3, 100, 100,   6],\n",
       "       [  9,   7, 100, 100,   9]])"
      ]
     },
     "execution_count": 22,
     "metadata": {},
     "output_type": "execute_result"
    }
   ],
   "source": [
    "arr1[1:,2:4]=100\n",
    "arr1"
   ]
  },
  {
   "cell_type": "code",
   "execution_count": 23,
   "metadata": {},
   "outputs": [
    {
     "data": {
      "text/plain": [
       "array([1, 2])"
      ]
     },
     "execution_count": 23,
     "metadata": {},
     "output_type": "execute_result"
    }
   ],
   "source": [
    "### Some conditions very useful in Exploratory Data Analysis \n",
    "\n",
    "#arrname[condition] it is used to slice according to some condition\n",
    "\n",
    "arr[arr<3]"
   ]
  },
  {
   "cell_type": "code",
   "execution_count": 25,
   "metadata": {},
   "outputs": [
    {
     "data": {
      "text/plain": [
       "array([100, 100,   6,   9,   7, 100, 100,   9])"
      ]
     },
     "execution_count": 25,
     "metadata": {},
     "output_type": "execute_result"
    }
   ],
   "source": [
    "arr1[arr1>5]"
   ]
  },
  {
   "cell_type": "code",
   "execution_count": 27,
   "metadata": {},
   "outputs": [
    {
     "data": {
      "text/plain": [
       "array([[0, 1],\n",
       "       [2, 3],\n",
       "       [4, 5],\n",
       "       [6, 7],\n",
       "       [8, 9]])"
      ]
     },
     "execution_count": 27,
     "metadata": {},
     "output_type": "execute_result"
    }
   ],
   "source": [
    "## Create arrays and reshape\n",
    "\n",
    "arr2=np.arange(0,10).reshape(5,2)\n",
    "arr2"
   ]
  },
  {
   "cell_type": "code",
   "execution_count": 28,
   "metadata": {},
   "outputs": [
    {
     "data": {
      "text/plain": [
       "array([[0, 1, 2, 3, 4],\n",
       "       [5, 6, 7, 8, 9]])"
      ]
     },
     "execution_count": 28,
     "metadata": {},
     "output_type": "execute_result"
    }
   ],
   "source": [
    "arr1=arr2.reshape(2,5)\n",
    "arr1"
   ]
  },
  {
   "cell_type": "code",
   "execution_count": 29,
   "metadata": {},
   "outputs": [],
   "source": [
    "arr2=np.arange(0,10).reshape(2,5)"
   ]
  },
  {
   "cell_type": "code",
   "execution_count": 41,
   "metadata": {},
   "outputs": [
    {
     "data": {
      "text/plain": [
       "array([[ 0,  1,  4,  9, 16],\n",
       "       [25, 36, 49, 64, 81]])"
      ]
     },
     "execution_count": 41,
     "metadata": {},
     "output_type": "execute_result"
    }
   ],
   "source": [
    "arr1*arr2#the resp elements within array will get multiplied."
   ]
  },
  {
   "cell_type": "code",
   "execution_count": 30,
   "metadata": {},
   "outputs": [
    {
     "data": {
      "text/plain": [
       "array([[ 0,  2,  4,  6,  8],\n",
       "       [10, 12, 14, 16, 18]])"
      ]
     },
     "execution_count": 30,
     "metadata": {},
     "output_type": "execute_result"
    }
   ],
   "source": [
    "arr1+arr2"
   ]
  },
  {
   "cell_type": "code",
   "execution_count": 32,
   "metadata": {},
   "outputs": [
    {
     "name": "stderr",
     "output_type": "stream",
     "text": [
      "D:\\Anacoda\\lib\\site-packages\\ipykernel_launcher.py:1: RuntimeWarning: divide by zero encountered in floor_divide\n",
      "  \"\"\"Entry point for launching an IPython kernel.\n"
     ]
    },
    {
     "data": {
      "text/plain": [
       "array([[0, 1, 1, 1, 1],\n",
       "       [1, 1, 1, 1, 1]], dtype=int32)"
      ]
     },
     "execution_count": 32,
     "metadata": {},
     "output_type": "execute_result"
    }
   ],
   "source": [
    "arr1//arr2"
   ]
  },
  {
   "cell_type": "code",
   "execution_count": 34,
   "metadata": {},
   "outputs": [
    {
     "data": {
      "text/plain": [
       "array([[  0,   1,   8,  27,  64],\n",
       "       [125, 216, 343, 512, 729]], dtype=int32)"
      ]
     },
     "execution_count": 34,
     "metadata": {},
     "output_type": "execute_result"
    }
   ],
   "source": [
    "arr1**3"
   ]
  },
  {
   "cell_type": "code",
   "execution_count": 37,
   "metadata": {},
   "outputs": [
    {
     "data": {
      "text/plain": [
       "array([[1., 1., 1., 1., 1.],\n",
       "       [1., 1., 1., 1., 1.],\n",
       "       [1., 1., 1., 1., 1.],\n",
       "       [1., 1., 1., 1., 1.],\n",
       "       [1., 1., 1., 1., 1.]])"
      ]
     },
     "execution_count": 37,
     "metadata": {},
     "output_type": "execute_result"
    }
   ],
   "source": [
    "np.ones((5,5))"
   ]
  },
  {
   "cell_type": "code",
   "execution_count": 36,
   "metadata": {},
   "outputs": [
    {
     "data": {
      "text/plain": [
       "array([[0, 0, 0],\n",
       "       [0, 0, 0],\n",
       "       [0, 0, 0]])"
      ]
     },
     "execution_count": 36,
     "metadata": {},
     "output_type": "execute_result"
    }
   ],
   "source": [
    "np.zeros((3,3),dtype=int)"
   ]
  },
  {
   "cell_type": "code",
   "execution_count": 39,
   "metadata": {},
   "outputs": [
    {
     "data": {
      "text/plain": [
       "array([[2, 2, 2, 2, 2],\n",
       "       [2, 2, 2, 2, 2],\n",
       "       [2, 2, 2, 2, 2],\n",
       "       [2, 2, 2, 2, 2],\n",
       "       [2, 2, 2, 2, 2]], dtype=int64)"
      ]
     },
     "execution_count": 39,
     "metadata": {},
     "output_type": "execute_result"
    }
   ],
   "source": [
    "np.ones((5,5),dtype='int64')*2"
   ]
  },
  {
   "cell_type": "code",
   "execution_count": 42,
   "metadata": {},
   "outputs": [
    {
     "data": {
      "text/plain": [
       "array([[1., 0., 0., 0.],\n",
       "       [0., 1., 0., 0.],\n",
       "       [0., 0., 1., 0.],\n",
       "       [0., 0., 0., 1.]])"
      ]
     },
     "execution_count": 42,
     "metadata": {},
     "output_type": "execute_result"
    }
   ],
   "source": [
    "np.eye(4)#It will create an identity matrix with dimensions 3x3"
   ]
  },
  {
   "cell_type": "code",
   "execution_count": 44,
   "metadata": {},
   "outputs": [
    {
     "data": {
      "text/plain": [
       "array([[0.98427446, 0.25379729, 0.33279489],\n",
       "       [0.61731365, 0.18051522, 0.99924516],\n",
       "       [0.54191284, 0.11579576, 0.40049586]])"
      ]
     },
     "execution_count": 44,
     "metadata": {},
     "output_type": "execute_result"
    }
   ],
   "source": [
    "## random distribution\n",
    "np.random.rand(3,3)# it will create an array with values in between [0,1]"
   ]
  },
  {
   "cell_type": "code",
   "execution_count": 47,
   "metadata": {},
   "outputs": [
    {
     "data": {
      "text/plain": [
       "array([[31.90394585, 28.45355772,  4.9674298 , ..., 28.26171556,\n",
       "        63.44440727, 31.2612821 ],\n",
       "       [42.09166537,  7.51204834, 17.34090501, ..., 75.93049622,\n",
       "        91.79598786, 75.11900399],\n",
       "       [ 5.6306372 ,  4.87289074, 75.40260638, ..., 41.38887723,\n",
       "        70.94974681, 97.91999438],\n",
       "       ...,\n",
       "       [65.06133203, 17.4527084 , 79.52340354, ..., 78.63899822,\n",
       "        36.1508959 , 47.70934097],\n",
       "       [ 5.25941121, 16.28926424, 53.79136188, ..., 26.73875237,\n",
       "        42.06464276, 40.92830352],\n",
       "       [32.57757558, 52.65095151, 33.44053148, ..., 37.22826687,\n",
       "        90.53141905, 88.42229076]])"
      ]
     },
     "execution_count": 47,
     "metadata": {},
     "output_type": "execute_result"
    }
   ],
   "source": [
    "np.random.rand(100,27)*10"
   ]
  },
  {
   "cell_type": "code",
   "execution_count": 49,
   "metadata": {},
   "outputs": [
    {
     "data": {
      "text/plain": [
       "array([[-0.25561472,  2.4541605 , -0.02453211],\n",
       "       [ 0.75092804,  0.84242764,  0.28385544],\n",
       "       [ 0.1056536 ,  0.10765804, -1.38804084]])"
      ]
     },
     "execution_count": 49,
     "metadata": {},
     "output_type": "execute_result"
    }
   ],
   "source": [
    "np.random.randn(3,3)# it will create an array with the dimensions (3,3) of the values in between [0,1] with median"
   ]
  },
  {
   "cell_type": "code",
   "execution_count": 51,
   "metadata": {},
   "outputs": [
    {
     "data": {
      "text/plain": [
       "array([[91, 55, 87, 99, 76, 60, 99, 70, 98, 56],\n",
       "       [80, 53, 82, 58, 79, 72, 95, 84, 46, 42],\n",
       "       [40, 52, 49, 75, 40, 86, 61, 72, 70, 91],\n",
       "       [50, 98, 65, 57, 41, 52, 81, 82, 79, 90],\n",
       "       [88, 41, 41, 63, 89, 59, 52, 95, 83, 97],\n",
       "       [72, 58, 92, 89, 71, 62, 54, 61, 71, 77],\n",
       "       [70, 59, 53, 98, 71, 81, 69, 95, 70, 99],\n",
       "       [81, 89, 78, 99, 52, 52, 93, 80, 85, 77],\n",
       "       [61, 40, 43, 55, 64, 64, 55, 40, 79, 89],\n",
       "       [62, 97, 99, 69, 58, 76, 48, 72, 47, 88],\n",
       "       [93, 95, 53, 90, 95, 46, 96, 97, 94, 71],\n",
       "       [49, 99, 69, 89, 64, 87, 87, 82, 52, 47],\n",
       "       [68, 56, 78, 44, 45, 41, 69, 95, 75, 89],\n",
       "       [41, 86, 98, 99, 82, 76, 85, 43, 66, 55],\n",
       "       [93, 76, 60, 48, 60, 92, 62, 41, 99, 92],\n",
       "       [59, 98, 41, 52, 79, 73, 65, 99, 60, 60],\n",
       "       [64, 60, 87, 65, 59, 54, 86, 77, 70, 73],\n",
       "       [83, 62, 91, 69, 70, 80, 51, 49, 71, 52],\n",
       "       [91, 73, 81, 43, 82, 82, 63, 95, 47, 59],\n",
       "       [59, 78, 47, 59, 80, 95, 54, 69, 47, 49],\n",
       "       [66, 55, 65, 88, 86, 62, 84, 51, 57, 65],\n",
       "       [80, 86, 76, 98, 56, 81, 92, 56, 81, 55],\n",
       "       [87, 72, 66, 47, 79, 53, 58, 94, 56, 42],\n",
       "       [47, 83, 88, 80, 90, 99, 90, 82, 45, 55],\n",
       "       [62, 97, 87, 46, 56, 84, 58, 93, 94, 74],\n",
       "       [86, 91, 86, 47, 92, 45, 98, 73, 67, 76],\n",
       "       [92, 67, 40, 71, 76, 44, 86, 63, 92, 87],\n",
       "       [84, 66, 95, 67, 87, 64, 44, 87, 58, 97],\n",
       "       [48, 46, 74, 40, 78, 72, 82, 99, 99, 77],\n",
       "       [43, 52, 77, 83, 61, 63, 43, 40, 94, 72],\n",
       "       [43, 96, 93, 55, 71, 50, 54, 79, 83, 51],\n",
       "       [68, 80, 84, 53, 75, 58, 57, 42, 53, 54],\n",
       "       [47, 48, 99, 71, 88, 98, 71, 57, 68, 79],\n",
       "       [76, 80, 76, 94, 94, 62, 41, 81, 53, 68],\n",
       "       [92, 93, 81, 88, 82, 43, 66, 81, 81, 40],\n",
       "       [50, 45, 99, 40, 75, 77, 73, 77, 73, 49],\n",
       "       [60, 59, 81, 96, 40, 89, 52, 85, 61, 87],\n",
       "       [73, 91, 65, 47, 97, 95, 66, 87, 62, 43],\n",
       "       [43, 58, 91, 97, 78, 77, 72, 40, 54, 81],\n",
       "       [99, 85, 66, 81, 74, 44, 94, 40, 60, 87],\n",
       "       [46, 78, 66, 90, 54, 73, 62, 45, 45, 74],\n",
       "       [81, 43, 94, 97, 84, 68, 90, 57, 80, 97],\n",
       "       [82, 44, 99, 85, 87, 76, 56, 75, 59, 97],\n",
       "       [94, 72, 81, 49, 72, 65, 78, 57, 41, 84],\n",
       "       [43, 60, 97, 94, 40, 79, 70, 64, 88, 85],\n",
       "       [46, 54, 49, 84, 55, 41, 95, 74, 56, 65],\n",
       "       [93, 47, 65, 40, 97, 89, 94, 84, 44, 70],\n",
       "       [92, 43, 64, 56, 42, 71, 78, 73, 53, 96],\n",
       "       [51, 60, 71, 66, 60, 59, 54, 95, 56, 95],\n",
       "       [59, 48, 91, 67, 48, 68, 66, 60, 91, 88],\n",
       "       [86, 85, 45, 67, 75, 67, 66, 82, 84, 44],\n",
       "       [75, 51, 68, 78, 93, 46, 47, 82, 77, 80],\n",
       "       [96, 41, 88, 43, 58, 98, 56, 51, 44, 65],\n",
       "       [97, 96, 96, 91, 79, 77, 52, 44, 90, 75],\n",
       "       [46, 95, 96, 80, 92, 90, 99, 78, 67, 68],\n",
       "       [93, 53, 67, 56, 42, 78, 80, 86, 60, 89],\n",
       "       [47, 76, 92, 63, 44, 84, 66, 80, 48, 99],\n",
       "       [44, 97, 97, 86, 43, 57, 98, 82, 93, 48],\n",
       "       [73, 64, 47, 80, 56, 53, 44, 87, 47, 66],\n",
       "       [82, 63, 64, 42, 49, 43, 78, 72, 59, 86],\n",
       "       [60, 80, 72, 68, 49, 97, 68, 47, 59, 95],\n",
       "       [76, 51, 79, 40, 98, 82, 70, 87, 40, 83],\n",
       "       [56, 96, 43, 51, 58, 67, 53, 60, 77, 68],\n",
       "       [65, 84, 79, 56, 66, 46, 96, 71, 63, 61],\n",
       "       [92, 41, 62, 64, 56, 61, 86, 54, 70, 94],\n",
       "       [91, 58, 73, 49, 94, 53, 81, 64, 49, 67],\n",
       "       [96, 71, 53, 95, 40, 93, 72, 55, 92, 70],\n",
       "       [81, 41, 74, 60, 90, 54, 57, 99, 40, 57],\n",
       "       [98, 74, 63, 63, 49, 55, 93, 50, 74, 48],\n",
       "       [79, 87, 78, 76, 45, 51, 60, 69, 51, 98],\n",
       "       [51, 80, 43, 55, 44, 84, 82, 62, 86, 97],\n",
       "       [81, 47, 86, 99, 66, 73, 85, 91, 63, 88],\n",
       "       [69, 83, 68, 84, 61, 89, 58, 80, 44, 63],\n",
       "       [63, 50, 50, 82, 59, 93, 84, 92, 98, 82],\n",
       "       [79, 52, 44, 90, 44, 43, 97, 85, 81, 86],\n",
       "       [46, 96, 97, 41, 55, 53, 87, 56, 56, 76],\n",
       "       [98, 86, 80, 94, 87, 74, 88, 60, 82, 83],\n",
       "       [95, 61, 99, 85, 48, 57, 77, 47, 98, 51],\n",
       "       [82, 62, 80, 79, 74, 61, 80, 76, 58, 91],\n",
       "       [87, 40, 54, 96, 62, 60, 71, 50, 91, 93],\n",
       "       [92, 57, 73, 88, 73, 82, 90, 59, 83, 75],\n",
       "       [67, 86, 99, 73, 88, 97, 77, 73, 90, 99],\n",
       "       [97, 62, 74, 99, 55, 97, 78, 94, 83, 40],\n",
       "       [89, 67, 61, 90, 92, 85, 49, 78, 92, 72],\n",
       "       [50, 73, 78, 52, 84, 45, 46, 49, 91, 77],\n",
       "       [64, 65, 54, 46, 85, 99, 46, 93, 67, 40],\n",
       "       [68, 98, 99, 92, 92, 92, 82, 79, 51, 96],\n",
       "       [95, 64, 64, 96, 54, 48, 94, 76, 42, 43],\n",
       "       [45, 68, 45, 58, 68, 64, 47, 90, 64, 51],\n",
       "       [86, 69, 93, 70, 67, 44, 73, 71, 71, 77],\n",
       "       [42, 93, 61, 91, 75, 63, 87, 54, 66, 75],\n",
       "       [58, 49, 44, 48, 82, 40, 59, 92, 54, 86],\n",
       "       [43, 74, 77, 76, 47, 89, 41, 42, 58, 49],\n",
       "       [42, 54, 62, 61, 87, 75, 80, 64, 46, 86],\n",
       "       [49, 97, 81, 72, 98, 73, 53, 91, 50, 79],\n",
       "       [91, 62, 87, 62, 54, 62, 90, 56, 60, 92],\n",
       "       [66, 78, 74, 69, 45, 76, 92, 71, 74, 80],\n",
       "       [78, 93, 98, 60, 58, 89, 60, 98, 67, 73],\n",
       "       [71, 64, 94, 83, 88, 87, 90, 56, 43, 50],\n",
       "       [83, 87, 81, 53, 43, 46, 74, 79, 83, 55]])"
      ]
     },
     "execution_count": 51,
     "metadata": {},
     "output_type": "execute_result"
    }
   ],
   "source": [
    "np.random.randint(40, 100,size=(100,10))"
   ]
  },
  {
   "cell_type": "code",
   "execution_count": null,
   "metadata": {},
   "outputs": [],
   "source": []
  },
  {
   "cell_type": "code",
   "execution_count": null,
   "metadata": {},
   "outputs": [],
   "source": []
  },
  {
   "cell_type": "code",
   "execution_count": null,
   "metadata": {},
   "outputs": [],
   "source": []
  },
  {
   "cell_type": "code",
   "execution_count": null,
   "metadata": {},
   "outputs": [],
   "source": []
  },
  {
   "cell_type": "code",
   "execution_count": 52,
   "metadata": {},
   "outputs": [],
   "source": [
    "arr_ex=np.random.randn(4,4)"
   ]
  },
  {
   "cell_type": "code",
   "execution_count": 53,
   "metadata": {},
   "outputs": [
    {
     "data": {
      "text/plain": [
       "array([[-0.06541845,  1.04971939,  0.61956267,  0.74790573],\n",
       "       [-0.15721273, -0.65545737, -0.06891819,  0.49218457],\n",
       "       [ 0.12307252, -0.03387858, -0.47505222, -0.18168949],\n",
       "       [-0.77320553,  0.34388265,  1.97864548,  1.18199196]])"
      ]
     },
     "execution_count": 53,
     "metadata": {},
     "output_type": "execute_result"
    }
   ],
   "source": [
    "arr_ex"
   ]
  },
  {
   "cell_type": "code",
   "execution_count": 56,
   "metadata": {},
   "outputs": [],
   "source": [
    "import seaborn as sns\n",
    "import pandas as pd"
   ]
  },
  {
   "cell_type": "code",
   "execution_count": 57,
   "metadata": {},
   "outputs": [
    {
     "data": {
      "text/plain": [
       "<matplotlib.axes._subplots.AxesSubplot at 0x2b7f3c70148>"
      ]
     },
     "execution_count": 57,
     "metadata": {},
     "output_type": "execute_result"
    },
    {
     "data": {
      "image/png": "[encoded data removed]",
      "text/plain": [
       "<Figure size 432x288 with 1 Axes>"
      ]
     },
     "metadata": {
      "needs_background": "light"
     },
     "output_type": "display_data"
    }
   ],
   "source": [
    "df=pd.DataFrame(arr_ex.reshape(16,1))\n",
    "sns.distplot(df)"
   ]
  },
  {
   "cell_type": "code",
   "execution_count": 70,
   "metadata": {},
   "outputs": [
    {
     "data": {
      "text/plain": [
       "array([[77, 45],\n",
       "       [79, 55],\n",
       "       [40, 35],\n",
       "       [55, 53]])"
      ]
     },
     "execution_count": 70,
     "metadata": {},
     "output_type": "execute_result"
    }
   ],
   "source": [
    "np.random.randint(0,100,8).reshape(4,2)"
   ]
  },
  {
   "cell_type": "code",
   "execution_count": 75,
   "metadata": {},
   "outputs": [
    {
     "data": {
      "text/plain": [
       "array([[0.07005997, 0.98540348, 0.98450756, 0.65948775, 0.34944308]])"
      ]
     },
     "execution_count": 75,
     "metadata": {},
     "output_type": "execute_result"
    }
   ],
   "source": [
    "np.random.random_sample((1,5))"
   ]
  },
  {
   "cell_type": "code",
   "execution_count": null,
   "metadata": {},
   "outputs": [],
   "source": []
  }
 ],
 "metadata": {
  "kernelspec": {
   "display_name": "Python 3",
   "language": "python",
   "name": "python3"
  },
  "language_info": {
   "codemirror_mode": {
    "name": "ipython",
    "version": 3
   },
   "file_extension": ".py",
   "mimetype": "text/x-python",
   "name": "python",
   "nbconvert_exporter": "python",
   "pygments_lexer": "ipython3",
   "version": "3.7.6"
  }
 },
 "nbformat": 4,
 "nbformat_minor": 2
}
